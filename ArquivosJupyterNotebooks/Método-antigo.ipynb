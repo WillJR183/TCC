{
 "cells": [
  {
   "cell_type": "code",
   "execution_count": 4,
   "metadata": {},
   "outputs": [],
   "source": [
    "import pandas as pd\n",
    "from sklearn.model_selection import train_test_split\n",
    "from sklearn.neighbors import KNeighborsClassifier\n",
    "from sklearn.metrics import accuracy_score\n",
    "from sklearn.tree import DecisionTreeClassifier\n",
    "\n",
    "#carrega dataset\n",
    "dados = pd.read_csv('Libras.csv', sep=';')\n",
    "\n",
    "#y = carrega a coluna das classes chamada target. pop é desemplihar, tirar e colocar no y. \n",
    "y=dados.pop('Classe').values"
   ]
  },
  {
   "cell_type": "code",
   "execution_count": 5,
   "metadata": {},
   "outputs": [
    {
     "data": {
      "text/plain": [
       "array(['A', 'A', 'A', ..., 'Z', 'Z', 'Z'], dtype=object)"
      ]
     },
     "execution_count": 5,
     "metadata": {},
     "output_type": "execute_result"
    }
   ],
   "source": [
    "y"
   ]
  },
  {
   "cell_type": "code",
   "execution_count": 6,
   "metadata": {},
   "outputs": [],
   "source": [
    "# x carrega as instâncias (todo o resto das colunas x)\n",
    "from sklearn import preprocessing\n",
    "scaler = preprocessing.StandardScaler().fit(dados.values)\n",
    "x = scaler.transform(dados.values)\n",
    "#x = dados.values\n",
    "\n"
   ]
  },
  {
   "cell_type": "code",
   "execution_count": 7,
   "metadata": {},
   "outputs": [],
   "source": [
    "# biblioteca para validação cruzada\n",
    "from sklearn.model_selection import KFold"
   ]
  },
  {
   "cell_type": "code",
   "execution_count": 8,
   "metadata": {},
   "outputs": [],
   "source": [
    "#define 5 folds (4 de treinamento e 1 de teste e no total de 5 )\n",
    "kf = KFold(n_splits = 5)"
   ]
  },
  {
   "cell_type": "code",
   "execution_count": 9,
   "metadata": {},
   "outputs": [
    {
     "data": {
      "text/plain": [
       "5"
      ]
     },
     "execution_count": 9,
     "metadata": {},
     "output_type": "execute_result"
    }
   ],
   "source": [
    "#exibe o número de folds que temos\n",
    "kf.get_n_splits(x)"
   ]
  },
  {
   "cell_type": "code",
   "execution_count": 10,
   "metadata": {},
   "outputs": [
    {
     "name": "stdout",
     "output_type": "stream",
     "text": [
      "KNN:  [0.039050535987748852, 0.10421455938697317, 0.10804597701149425, 0.040613026819923369, 0.0]\n",
      "Arvore:  [0.032159264931087291, 0.070498084291187743, 0.057471264367816091, 0.034482758620689655, 0.013026819923371647]\n"
     ]
    }
   ],
   "source": [
    "classificador_KNN = KNeighborsClassifier(n_neighbors=5)\n",
    "classificador_arvores = DecisionTreeClassifier(random_state=0)\n",
    "list_knn = []\n",
    "list_arvores = []\n",
    "\n",
    "#\n",
    "for treino_index, teste_index in kf.split(x):\n",
    "    x_treino, x_teste = x[treino_index], x[teste_index]\n",
    "    y_treino, y_teste = y[treino_index], y[teste_index]\n",
    "    \n",
    "    #KNN\n",
    "    #cria o modelo do knn = TREINAMENTO\n",
    "    classificador_KNN.fit(x_treino, y_treino)\n",
    "    #classifica os dados do x_teste\n",
    "    y_predict=classificador_KNN.predict(x_teste)\n",
    "    #adiciona a acuracia na lista\n",
    "    list_knn.append(accuracy_score(y_teste, y_predict, normalize=True))\n",
    "    \n",
    "    #Arvores\n",
    "    #cria o modelo da arvore = TREINAMENTO\n",
    "    classificador_arvores.fit(x_treino, y_treino)\n",
    "    #classifica os dados do x_teste\n",
    "    y_predict=classificador_arvores.predict(x_teste)\n",
    "    #adiciona a acuracia na lista\n",
    "    list_arvores.append(accuracy_score(y_teste, y_predict, normalize=True))\n",
    "    \n",
    "print(\"KNN: \", list_knn)    \n",
    "print(\"Arvore: \", list_arvores)"
   ]
  },
  {
   "cell_type": "code",
   "execution_count": 11,
   "metadata": {},
   "outputs": [
    {
     "name": "stdout",
     "output_type": "stream",
     "text": [
      "0.0583848198412 0.0415276384268\n",
      "---------------------------------------------------------\n",
      "[ 0.52036199  0.59076923  0.54230769  0.53615385  0.42923077]\n",
      "[ 0.42533937  0.57        0.41538462  0.46692308  0.36076923]\n"
     ]
    }
   ],
   "source": [
    "import statistics\n",
    "print(statistics.mean(list_knn), statistics.mean(list_arvores))\n",
    "\n",
    "print(\"---------------------------------------------------------\")\n",
    "\n",
    "from sklearn.model_selection import cross_val_score\n",
    "print(cross_val_score(classificador_KNN, x, y, cv=5))\n",
    "print(cross_val_score(classificador_arvores, x, y, cv=5))"
   ]
  },
  {
   "cell_type": "code",
   "execution_count": null,
   "metadata": {},
   "outputs": [],
   "source": []
  },
  {
   "cell_type": "code",
   "execution_count": null,
   "metadata": {},
   "outputs": [],
   "source": []
  }
 ],
 "metadata": {
  "kernelspec": {
   "display_name": "Python 3",
   "language": "python",
   "name": "python3"
  },
  "language_info": {
   "codemirror_mode": {
    "name": "ipython",
    "version": 3
   },
   "file_extension": ".py",
   "mimetype": "text/x-python",
   "name": "python",
   "nbconvert_exporter": "python",
   "pygments_lexer": "ipython3",
   "version": "3.6.7"
  }
 },
 "nbformat": 4,
 "nbformat_minor": 2
}
